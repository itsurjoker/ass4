{
 "cells": [
  {
   "cell_type": "code",
   "execution_count": 1,
   "id": "979e124b-ad3d-4c86-8397-d0a8d7d6c343",
   "metadata": {},
   "outputs": [
    {
     "name": "stdout",
     "output_type": "stream",
     "text": [
      "('Virat Kohli', 24936)\n",
      "('Jack Kallis', 25534)\n",
      "('Ricky Ponting', 27483)\n",
      "('Sachin Tendulkar', 34357)\n"
     ]
    }
   ],
   "source": [
    "#Q1.\n",
    "\n",
    "players = [('Sachin Tendulkar', 34357), ('Ricky Ponting', 27483), ('Jack Kallis', 25534), ('Virat Kohli', 24936)]\n",
    "\n",
    "sorted_players = sorted(players, key=lambda x: x[1])\n",
    "\n",
    "for player in sorted_players:\n",
    "    print(player)"
   ]
  },
  {
   "cell_type": "code",
   "execution_count": 2,
   "id": "f001090f-98bf-459e-a6b7-d9cd8818aead",
   "metadata": {},
   "outputs": [
    {
     "name": "stdout",
     "output_type": "stream",
     "text": [
      "Original numbers: [1, 2, 3, 4, 5, 6, 7, 8, 9, 10]\n",
      "Squared numbers: [1, 4, 9, 16, 25, 36, 49, 64, 81, 100]\n"
     ]
    }
   ],
   "source": [
    "#Q2.\n",
    "\n",
    "numbers = [1, 2, 3, 4, 5, 6, 7, 8, 9, 10]\n",
    "squared_numbers = list(map(lambda x: x**2, numbers))\n",
    "print(\"Original numbers:\", numbers)\n",
    "print(\"Squared numbers:\", squared_numbers)"
   ]
  },
  {
   "cell_type": "code",
   "execution_count": 3,
   "id": "56b221f7-01b5-4216-a9bf-bfbff4b3528d",
   "metadata": {
    "jp-MarkdownHeadingCollapsed": true,
    "tags": []
   },
   "outputs": [
    {
     "name": "stdout",
     "output_type": "stream",
     "text": [
      "('1', '2', '3', '4', '5', '6', '7', '8', '9', '10')\n"
     ]
    }
   ],
   "source": [
    "#Q3.\n",
    "\n",
    "given_list = [1, 2, 3, 4, 5, 6, 7, 8, 9, 10]\n",
    "converted_tuple = tuple(map(lambda x: str(x), given_list))\n",
    "\n",
    "print(converted_tuple)"
   ]
  },
  {
   "cell_type": "code",
   "execution_count": 4,
   "id": "453d7144-bc7f-4229-bd27-cb3627712c20",
   "metadata": {},
   "outputs": [
    {
     "name": "stdout",
     "output_type": "stream",
     "text": [
      "Product of the list: 15511210043330985984000000\n"
     ]
    }
   ],
   "source": [
    "#Q4.\n",
    "\n",
    "from functools import reduce\n",
    "def multiply(x, y):\n",
    "    return x * y\n",
    "numbers_list = list(range(1, 26))\n",
    "product = reduce(multiply, numbers_list)\n",
    "\n",
    "print(\"Product of the list:\", product)"
   ]
  },
  {
   "cell_type": "code",
   "execution_count": 5,
   "id": "21a3914b-68ee-4689-88ff-a441c8ae0990",
   "metadata": {},
   "outputs": [
    {
     "name": "stdout",
     "output_type": "stream",
     "text": [
      "Numbers divisible by 2 and 3: [6, 60, 90, 120]\n"
     ]
    }
   ],
   "source": [
    "#Q5.\n",
    "\n",
    "def is_divisible_by_2_and_3(number):\n",
    "    return number % 2 == 0 and number % 3 == 0\n",
    "numbers_list = [2, 3, 6, 9, 27, 60, 90, 120, 55, 46]\n",
    "filtered_numbers = list(filter(is_divisible_by_2_and_3, numbers_list))\n",
    "\n",
    "print(\"Numbers divisible by 2 and 3:\", filtered_numbers)"
   ]
  },
  {
   "cell_type": "code",
   "execution_count": 6,
   "id": "b95517a1-9b8d-45b7-b183-b7a8b524d54e",
   "metadata": {},
   "outputs": [
    {
     "name": "stdout",
     "output_type": "stream",
     "text": [
      "Palindromes in the list are: ['php', 'aba', 'radar', 'level']\n"
     ]
    }
   ],
   "source": [
    "#Q6.\n",
    "\n",
    "\n",
    "is_palindrome = lambda s: s == s[::-1]\n",
    "input_list = ['python', 'php', 'aba', 'radar', 'level']\n",
    "palindromes = list(filter(is_palindrome, input_list))\n",
    "print(\"Palindromes in the list are:\", palindromes)"
   ]
  }
 ],
 "metadata": {
  "kernelspec": {
   "display_name": "Python 3 (ipykernel)",
   "language": "python",
   "name": "python3"
  },
  "language_info": {
   "codemirror_mode": {
    "name": "ipython",
    "version": 3
   },
   "file_extension": ".py",
   "mimetype": "text/x-python",
   "name": "python",
   "nbconvert_exporter": "python",
   "pygments_lexer": "ipython3",
   "version": "3.10.8"
  }
 },
 "nbformat": 4,
 "nbformat_minor": 5
}
